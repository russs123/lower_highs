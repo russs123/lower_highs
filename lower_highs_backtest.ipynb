{
 "cells": [
  {
   "cell_type": "code",
   "execution_count": 1,
   "metadata": {},
   "outputs": [],
   "source": [
    "#import libraries\n",
    "import yfinance as yf\n",
    "import datetime\n",
    "from datetime import timedelta\n",
    "import matplotlib.pyplot as plt\n",
    "import numpy as np\n",
    "import seaborn as sns\n",
    "import pandas as pd\n",
    "from IPython.display import display, clear_output\n",
    "import time"
   ]
  },
  {
   "cell_type": "code",
   "execution_count": 2,
   "metadata": {},
   "outputs": [],
   "source": [
    "#define date range\n",
    "start = datetime.datetime(1995, 1, 1)\n",
    "end = datetime.datetime(2022, 1, 1)\n",
    "delta = timedelta(days=1)"
   ]
  },
  {
   "cell_type": "code",
   "execution_count": 3,
   "metadata": {},
   "outputs": [],
   "source": [
    "#define starting variables\n",
    "symbols = [\"^GSPC\", \"^FTSE\", '^DJI', '^IXIC', '^RUT', '^N225']\n",
    "start_bal = 10000\n",
    "consecutive = 4\n",
    "slow_ma = 200\n",
    "fast_ma = 5"
   ]
  },
  {
   "cell_type": "code",
   "execution_count": 4,
   "metadata": {
    "scrolled": true
   },
   "outputs": [],
   "source": [
    "def get_price_data(symbol):\n",
    "    #download data\n",
    "    df = yf.download(symbol, start, end)\n",
    "\n",
    "    #drop redundant columns\n",
    "    df = df.drop([\"Volume\", \"Adj Close\"], axis=1)\n",
    "    \n",
    "    return df"
   ]
  },
  {
   "cell_type": "code",
   "execution_count": 5,
   "metadata": {},
   "outputs": [],
   "source": [
    "def calculate_inputs(df):\n",
    "    #calculate inputs required for system\n",
    "    df[\"oc\"] = df.Close / df.Open\n",
    "    df[\"hc\"] = df.Close / df.High.shift(1)\n",
    "    df[\"lc\"] = df.Close / df.Low.shift(1)\n",
    "\n",
    "    #check if today is a down day\n",
    "    df['LH'] = df.High < df.High.shift(1)\n",
    "    df['HL'] = df.Low > df.Low.shift(1)\n",
    "\n",
    "    #count consecutive lower highs\n",
    "    #https://stackoverflow.com/questions/27626542/counting-consecutive-positive-value-in-python-array\n",
    "    down = df.LH\n",
    "    df['Cons_Down'] = down * (down.groupby((down != down.shift()).cumsum()).cumcount() + 1)\n",
    "\n",
    "    #count consecutive higher lows\n",
    "    up = df.HL\n",
    "    df['Cons_Up'] = up * (up.groupby((up != up.shift()).cumsum()).cumcount() + 1)\n",
    "\n",
    "    return df"
   ]
  },
  {
   "cell_type": "code",
   "execution_count": 6,
   "metadata": {},
   "outputs": [],
   "source": [
    "def generate_signals(df, s):\n",
    "    #generate entries and exits\n",
    "    df[\"Long_Signal\"] = df.Cons_Down >= consecutive\n",
    "    df[\"Short_Signal\"] = df.Cons_Up >= consecutive\n",
    "    \n",
    "    #generate trades\n",
    "    df[\"High_Broken\"] = np.where((df.Open > df.High.shift(1)) | (df.High >= df.High.shift(1)), True, False)\n",
    "    df[\"Low_Broken\"] = np.where((df.Open < df.Low.shift(1)) | (df.Low <= df.Low.shift(1)), True, False)\n",
    "    \n",
    "    df[\"Long_Trade\"] = np.where((df.Long_Signal.shift(1) & df.High_Broken), True, False)\n",
    "    df[\"Short_Trade\"] = np.where((df.Short_Signal.shift(1) & df.Low_Broken), True, False)\n",
    "    \n",
    "\n",
    "    df['Long_Ret'] = np.where(df.Long_Trade, \n",
    "                              np.where(df.Open > df.High.shift(1), df.oc, df.hc),\n",
    "                         1)# return is from yesterday's high to today's close\n",
    "\n",
    "    df['Short_Ret'] = np.where((df.Short_Trade) & (df.Long_Trade == False), \n",
    "                              np.where(df.Open < df.Low.shift(1), 2 - df.oc, 2 - df.lc),\n",
    "                         1)# 2 - df is because it is a short trade and return needs to be inverted.\n",
    "                \n",
    "    return df"
   ]
  },
  {
   "cell_type": "code",
   "execution_count": 7,
   "metadata": {},
   "outputs": [],
   "source": [
    "def process_data():\n",
    "    dfs = []\n",
    "    for sym in symbols:\n",
    "        df = get_price_data(sym)\n",
    "        #calculate strategy inputs\n",
    "        df = calculate_inputs(df)\n",
    "        #generate signals\n",
    "        df = generate_signals(df, sym)\n",
    "        \n",
    "        dfs.append(df)\n",
    "\n",
    "    return dfs"
   ]
  },
  {
   "cell_type": "code",
   "execution_count": 8,
   "metadata": {},
   "outputs": [
    {
     "name": "stderr",
     "output_type": "stream",
     "text": [
      "[*********************100%%**********************]  1 of 1 completed\n",
      "[*********************100%%**********************]  1 of 1 completed\n",
      "[*********************100%%**********************]  1 of 1 completed\n",
      "[*********************100%%**********************]  1 of 1 completed\n",
      "[*********************100%%**********************]  1 of 1 completed\n",
      "[*********************100%%**********************]  1 of 1 completed\n"
     ]
    }
   ],
   "source": [
    "dfs = process_data()"
   ]
  },
  {
   "cell_type": "code",
   "execution_count": 9,
   "metadata": {},
   "outputs": [],
   "source": [
    "#simulate daily trading\n",
    "bal = [start_bal]\n",
    "dates = [start]\n",
    "in_market = [False]\n",
    "\n",
    "day = start\n",
    "#move day by day\n",
    "while day < end:\n",
    "    trades = 0\n",
    "    sum_ret = 0\n",
    "    sum_ret = 0\n",
    "    combined_ret = 1\n",
    "    trading = False\n",
    "    day += delta\n",
    "    #check all symbols for a trade\n",
    "    for df in dfs:\n",
    "        if day in df.index:\n",
    "            #get today's data for that index\n",
    "            data = df.loc[day]\n",
    "            #check if a trade is triggered for it\n",
    "            if data.Long_Trade or data.Short_Trade:\n",
    "                trades += 1\n",
    "                #sum up the return for each index\n",
    "                sum_ret = sum_ret + (data.Long_Ret * data.Short_Ret)\n",
    "            if trades > 0:\n",
    "                #calculate a combined return for all the trades taken that day\n",
    "                combined_ret = sum_ret / trades\n",
    "                trading = True\n",
    "\n",
    "    #calculate updated balance\n",
    "    new_bal = bal[-1] * combined_ret\n",
    "    bal.append(new_bal)\n",
    "    dates.append(day)\n",
    "    in_market.append(trading)"
   ]
  },
  {
   "cell_type": "code",
   "execution_count": 10,
   "metadata": {},
   "outputs": [
    {
     "data": {
      "text/html": [
       "<div>\n",
       "<style scoped>\n",
       "    .dataframe tbody tr th:only-of-type {\n",
       "        vertical-align: middle;\n",
       "    }\n",
       "\n",
       "    .dataframe tbody tr th {\n",
       "        vertical-align: top;\n",
       "    }\n",
       "\n",
       "    .dataframe thead th {\n",
       "        text-align: right;\n",
       "    }\n",
       "</style>\n",
       "<table border=\"1\" class=\"dataframe\">\n",
       "  <thead>\n",
       "    <tr style=\"text-align: right;\">\n",
       "      <th></th>\n",
       "      <th>Balance</th>\n",
       "      <th>In_Market</th>\n",
       "    </tr>\n",
       "    <tr>\n",
       "      <th>Date</th>\n",
       "      <th></th>\n",
       "      <th></th>\n",
       "    </tr>\n",
       "  </thead>\n",
       "  <tbody>\n",
       "    <tr>\n",
       "      <th>1995-01-01</th>\n",
       "      <td>10000.000000</td>\n",
       "      <td>False</td>\n",
       "    </tr>\n",
       "    <tr>\n",
       "      <th>1995-01-02</th>\n",
       "      <td>10000.000000</td>\n",
       "      <td>False</td>\n",
       "    </tr>\n",
       "    <tr>\n",
       "      <th>1995-01-03</th>\n",
       "      <td>10000.000000</td>\n",
       "      <td>False</td>\n",
       "    </tr>\n",
       "    <tr>\n",
       "      <th>1995-01-04</th>\n",
       "      <td>10000.000000</td>\n",
       "      <td>False</td>\n",
       "    </tr>\n",
       "    <tr>\n",
       "      <th>1995-01-05</th>\n",
       "      <td>10000.000000</td>\n",
       "      <td>False</td>\n",
       "    </tr>\n",
       "    <tr>\n",
       "      <th>...</th>\n",
       "      <td>...</td>\n",
       "      <td>...</td>\n",
       "    </tr>\n",
       "    <tr>\n",
       "      <th>2021-12-28</th>\n",
       "      <td>173865.044081</td>\n",
       "      <td>False</td>\n",
       "    </tr>\n",
       "    <tr>\n",
       "      <th>2021-12-29</th>\n",
       "      <td>173578.817058</td>\n",
       "      <td>True</td>\n",
       "    </tr>\n",
       "    <tr>\n",
       "      <th>2021-12-30</th>\n",
       "      <td>173569.819017</td>\n",
       "      <td>True</td>\n",
       "    </tr>\n",
       "    <tr>\n",
       "      <th>2021-12-31</th>\n",
       "      <td>174003.567721</td>\n",
       "      <td>True</td>\n",
       "    </tr>\n",
       "    <tr>\n",
       "      <th>2022-01-01</th>\n",
       "      <td>174003.567721</td>\n",
       "      <td>False</td>\n",
       "    </tr>\n",
       "  </tbody>\n",
       "</table>\n",
       "<p>9863 rows × 2 columns</p>\n",
       "</div>"
      ],
      "text/plain": [
       "                  Balance  In_Market\n",
       "Date                                \n",
       "1995-01-01   10000.000000      False\n",
       "1995-01-02   10000.000000      False\n",
       "1995-01-03   10000.000000      False\n",
       "1995-01-04   10000.000000      False\n",
       "1995-01-05   10000.000000      False\n",
       "...                   ...        ...\n",
       "2021-12-28  173865.044081      False\n",
       "2021-12-29  173578.817058       True\n",
       "2021-12-30  173569.819017       True\n",
       "2021-12-31  174003.567721       True\n",
       "2022-01-01  174003.567721      False\n",
       "\n",
       "[9863 rows x 2 columns]"
      ]
     },
     "execution_count": 10,
     "metadata": {},
     "output_type": "execute_result"
    }
   ],
   "source": [
    "results = pd.DataFrame(\n",
    "    {\"Date\": dates,\n",
    "     \"Balance\": bal,\n",
    "     \"In_Market\": in_market,\n",
    "    })\n",
    "results = results.set_index(\"Date\")\n",
    "results"
   ]
  },
  {
   "cell_type": "code",
   "execution_count": 11,
   "metadata": {},
   "outputs": [
    {
     "data": {
      "image/png": "[encoded data removed]",
      "text/plain": [
       "<Figure size 1600x800 with 1 Axes>"
      ]
     },
     "metadata": {},
     "output_type": "display_data"
    }
   ],
   "source": [
    "plt.style.use(\"dark_background\")\n",
    "plt.rcParams[\"figure.figsize\"] = (16,8)\n",
    "plt.rcParams.update({\"font.size\": 18})\n",
    "\n",
    "plt.plot(results.Balance)\n",
    "\n",
    "plt.show()"
   ]
  },
  {
   "cell_type": "code",
   "execution_count": 12,
   "metadata": {},
   "outputs": [
    {
     "name": "stdout",
     "output_type": "stream",
     "text": [
      "Start Balance: 10,000\n",
      "Final Balance: 174,004\n",
      "Total Return: 1640.04\n",
      "Annual Return: 11.16\n",
      "Max Drawdown: -13.57\n",
      "Return over Drawdown: 0.82\n",
      "Time in the Market: 19.75\n",
      "Return By Exposure: 56.51\n",
      "RBE over Drawdown: 4.16\n"
     ]
    }
   ],
   "source": [
    "#metrics\n",
    "years = (end - start).days / 365.25\n",
    "end_bal = round(bal[-1])\n",
    "ret = round(((end_bal / start_bal) - 1) * 100, 2)\n",
    "cagr = round(((((end_bal / start_bal) ** (1/years))-1)*100), 2)\n",
    "peak = results[\"Balance\"].cummax()\n",
    "dd = results[\"Balance\"] - peak\n",
    "dd_pct = round(((dd / peak).min()) * 100, 2)\n",
    "rod = round(cagr / abs(dd_pct), 2)\n",
    "tim = round(results.In_Market.sum() / len(results) * 100, 2)\n",
    "rbe = round((cagr / tim) * 100, 2)\n",
    "rbeod = round(rbe / abs(dd_pct), 2) # return by exposure by drawdown (assuming drawdown doesn\"t scale as TIM increases. Could be wrong)\n",
    "\n",
    "print(f\"Start Balance: {start_bal:,}\")\n",
    "print(f\"Final Balance: {end_bal:,}\")\n",
    "print(f\"Total Return: {ret}\")\n",
    "print(f\"Annual Return: {cagr}\")\n",
    "print(f\"Max Drawdown: {dd_pct}\")\n",
    "print(f\"Return over Drawdown: {rod}\")\n",
    "print(f\"Time in the Market: {tim}\")\n",
    "print(f\"Return By Exposure: {rbe}\")\n",
    "print(f\"RBE over Drawdown: {rbeod}\")"
   ]
  }
 ],
 "metadata": {
  "kernelspec": {
   "display_name": "Python 3 (ipykernel)",
   "language": "python",
   "name": "python3"
  },
  "language_info": {
   "codemirror_mode": {
    "name": "ipython",
    "version": 3
   },
   "file_extension": ".py",
   "mimetype": "text/x-python",
   "name": "python",
   "nbconvert_exporter": "python",
   "pygments_lexer": "ipython3",
   "version": "3.10.4"
  }
 },
 "nbformat": 4,
 "nbformat_minor": 4
}
